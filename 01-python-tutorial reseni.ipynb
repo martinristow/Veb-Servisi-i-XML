{
 "cells": [
  {
   "cell_type": "markdown",
   "metadata": {},
   "source": [
    "# Основи на Python"
   ]
  },
  {
   "cell_type": "markdown",
   "metadata": {},
   "source": [
    "Креирано од: доц. д-р. Светлана Кордумова Трајанова"
   ]
  },
  {
   "cell_type": "markdown",
   "metadata": {},
   "source": [
    "## 1. Променливи\n",
    "\n",
    "Основните компоненти на секој програмски јазик се променливите и објектите.\n",
    "\n",
    "Во Python најчестите променливи се од тип integers, floats, strings, booleans, и во случај на објекти некој нов тип. Ќе се запознаеме со сите низ документот."
   ]
  },
  {
   "cell_type": "markdown",
   "metadata": {},
   "source": [
    "__Совет:__ За да извршиш код во некоја ќелија претисни Ctrl-Enter."
   ]
  },
  {
   "cell_type": "markdown",
   "metadata": {},
   "source": [
    "__Совет:__ За брзо да креираш нова ќелија под постоечка, претисни Ctrl-m then b. Други опции и кратенки за креирање, бришење и преместување на ќелии ќе најдете во менито погоре."
   ]
  },
  {
   "cell_type": "code",
   "execution_count": null,
   "metadata": {},
   "outputs": [],
   "source": [
    "# Број\n",
    "2"
   ]
  },
  {
   "cell_type": "code",
   "execution_count": null,
   "metadata": {},
   "outputs": [],
   "source": [
    "# Користи print за да прикажеш повеќе вредности во иста ќелија\n",
    "# За strings можеш да користиш единични или двојни наводници\n",
    "print(2)\n",
    "print('hello')"
   ]
  },
  {
   "cell_type": "code",
   "execution_count": null,
   "metadata": {},
   "outputs": [],
   "source": [
    "# Вредностите можат да бидат предадени на променливи\n",
    "a = 2\n",
    "b = 'hello'\n",
    "c = True  # Мора да е со голема буква!\n",
    "print(a, b, c)"
   ]
  },
  {
   "cell_type": "code",
   "execution_count": null,
   "metadata": {},
   "outputs": [],
   "source": [
    "# type функцијата ни кажува каков тип на променлива имаме\n",
    "print(type(a))\n",
    "print(type(b))\n",
    "print(type(c))"
   ]
  },
  {
   "cell_type": "code",
   "execution_count": null,
   "metadata": {},
   "outputs": [],
   "source": [
    "# Што се случува кога нова пронебкува покажува кон претходно креирана?\n",
    "a = 1\n",
    "b = a\n",
    "a = 2\n",
    "## Што е b?\n",
    "print(b)"
   ]
  },
  {
   "cell_type": "markdown",
   "metadata": {},
   "source": [
    "## 2. Команди кои се извршуваат врз податоци\n",
    "\n",
    "Само предавање на податоци во променливи не е корисно. Веднаш би сакале да почнеме да користиме операции и манипулации на овие податоци и променливи.\n",
    "\n",
    "Постојат три чести начини за извршување на команди врз податоци."
   ]
  },
  {
   "cell_type": "markdown",
   "metadata": {},
   "source": [
    "### 2.1 Користење на оператори\n",
    "\n",
    "Сите основни математички оператори работат исто како со броеви. Исто така тие можат да извршуваат операции на друг тип променливи како strings. Постојат и логички оператори кои можат да споредат вредности и да вратат `bool` променлива како резултат."
   ]
  },
  {
   "cell_type": "code",
   "execution_count": null,
   "metadata": {},
   "outputs": [],
   "source": [
    "# Се пишуваат и работат исто како во математика\n",
    "a = 2\n",
    "b = 3\n",
    "print(a + b)\n",
    "print(a * b)\n",
    "print(a ** b)  #  а на степен b (a^b е нешто сосема различно!)\n",
    "print(a / b)   "
   ]
  },
  {
   "cell_type": "code",
   "execution_count": null,
   "metadata": {},
   "outputs": [],
   "source": [
    "# Операции на стрингови\n",
    "print('hello' + 'world')\n",
    "print('hello' * 3)\n",
    "#print('hello' / 3)  # Не можеш да го направиш ова!"
   ]
  },
  {
   "cell_type": "code",
   "execution_count": null,
   "metadata": {},
   "outputs": [],
   "source": [
    "# Логички оператори\n",
    "a = (1 > 3)\n",
    "b = (3 == 3)\n",
    "print(a)\n",
    "print(b)\n",
    "print(a or b)\n",
    "print(a and b)"
   ]
  },
  {
   "cell_type": "markdown",
   "metadata": {},
   "source": [
    "### 2.2 Користење на функција\n",
    "\n",
    "Ќе ви се јасни ако имате користено било каков програмски јазок претходно."
   ]
  },
  {
   "cell_type": "code",
   "execution_count": null,
   "metadata": {},
   "outputs": [],
   "source": [
    "# Има илјадници функции на податоци\n",
    "print(type(3))\n",
    "print(len('hello'))\n",
    "print(round(3.3))"
   ]
  },
  {
   "cell_type": "markdown",
   "metadata": {},
   "source": [
    "__Совет:__  За да дознаеш што прави некоја функција, напиши го името и прашалник до неа и ќе се појави pop up помошен прозорец во долниот дел од документот. Или за да провериш кои аргументи ги зема, напиши го името, отвори заграда и претисни tab."
   ]
  },
  {
   "cell_type": "code",
   "execution_count": null,
   "metadata": {},
   "outputs": [],
   "source": [
    "round?\n",
    "#round(\n",
    "round(3.14159, 2)"
   ]
  },
  {
   "cell_type": "markdown",
   "metadata": {},
   "source": [
    "__Совет:__ Многу корисни функции не се наогаат во Python built in библиотеката, но се надворешни пакети. Овие треба да бидат вклучени во програмата пред да се користат. Едни од најважните се numpy и matplotlib."
   ]
  },
  {
   "cell_type": "code",
   "execution_count": null,
   "metadata": {},
   "outputs": [],
   "source": [
    "# Многу корисни функции се во надворешни пакети\n",
    "# Да го запознаеме numpy\n",
    "import numpy as np"
   ]
  },
  {
   "cell_type": "code",
   "execution_count": null,
   "metadata": {},
   "outputs": [],
   "source": [
    "# За да видиш што се' се наога во некој пакет, напиши го името со точка до него и претисни tab\n",
    "#np?\n",
    "np."
   ]
  },
  {
   "cell_type": "code",
   "execution_count": null,
   "metadata": {},
   "outputs": [],
   "source": [
    "# Некој примери од numpy, функции и податоци\n",
    "print(np.sqrt(4))\n",
    "print(np.pi)  # не е функција, туку податок\n",
    "print(np.sin(np.pi))"
   ]
  },
  {
   "cell_type": "markdown",
   "metadata": {},
   "source": [
    "### 2.3 Користење на методи\n",
    "\n",
    "Пред да продолжиме со туториалот, ќе зборуваме за 'објекти'. Во овој курс нема да учиме за објектно ориентирано програмирање, но ќе сретнете објекти често во Python (всушност секоја променлива што е integer или string всушност преставува објект).\n",
    "\n",
    "Објаснето на едноставен начин, можете да мислите на објектите како мала колекција од променливи и функции со коишто се работи врз податоци. На пример, strings се објекти со колекција на карактери и функции коишто оперираат врз овие карактери. Кога се сместени во објекти, овие функции се нарекуваат методи. \n",
    "\n",
    "Во другите јазици синтаксата за методи е обично `function(arguments)`, меѓутоа во Python методите се повикуваат како `variable.method(arguments)`."
   ]
  },
  {
   "cell_type": "code",
   "execution_count": null,
   "metadata": {},
   "outputs": [],
   "source": [
    "# string е всушност објект\n",
    "a = 'hello, world'\n",
    "print(type(a))"
   ]
  },
  {
   "cell_type": "code",
   "execution_count": null,
   "metadata": {},
   "outputs": [],
   "source": [
    "# Методи\n",
    "#a.\n",
    "а.\n",
    "print(a.capitalize())\n",
    "print(a.replace('l', 'X'))"
   ]
  },
  {
   "cell_type": "markdown",
   "metadata": {},
   "source": [
    "### Вежба 1 - Конверзија на твојата висина\n",
    "\n",
    "\n",
    "## $metre = \\frac{inches}{39}$\n",
    "\n",
    "1. Креирај променлива `inches_in_metre`.\n",
    "2. Креирај променлива (`inches`) за твојата висина во inches (не мора да е точно).\n",
    "3. Подели ја `inches` со `inches_in_metre`, и зачувај го резултатот во нова променлива `metres`.\n",
    "4. Испечати го резултатот\n"
   ]
  },
  {
   "cell_type": "markdown",
   "metadata": {},
   "source": [
    "__Совет:__ За да работи со децимали\n",
    "\n",
    "1. `inches_in_metre = 39.`  (додади точка на крајот за да го претвориш во float тип, или користи 39.4 за поточен резултат)\n",
    "2. `from __future__ import division` -  Стави го ова на почеток на кодот за да работи"
   ]
  },
  {
   "cell_type": "code",
   "execution_count": 2,
   "metadata": {},
   "outputs": [
    {
     "data": {
      "text/plain": [
       "1.8372692307692307"
      ]
     },
     "execution_count": 2,
     "metadata": {},
     "output_type": "execute_result"
    }
   ],
   "source": [
    "from __future__ import division\n",
    "inches_in_metre = 39\n",
    "inches = 71.6535\n",
    "metres = inches / inches_in_metre\n",
    "metres"
   ]
  },
  {
   "cell_type": "markdown",
   "metadata": {},
   "source": [
    "## 3. Колекција на податоци\n",
    "\n",
    "Python подржува повеќе типови на колекции, меѓу кои `lists`, `tuples`, `dictionaries`, and `numpy arrays`. На кратко ќе ги објасниме сите."
   ]
  },
  {
   "cell_type": "markdown",
   "metadata": {},
   "source": [
    "### 3.1 Листи\n",
    "\n",
    "Листите се најверојатно најфлексибилните колекции на податоци.\n",
    "\n",
    "Тие се декларираат со квадратни загради []. \n",
    "\n",
    "За да се селектира елемент од листата на позиција се користи синтаксата `a[ind]`."
   ]
  },
  {
   "cell_type": "code",
   "execution_count": null,
   "metadata": {},
   "outputs": [],
   "source": [
    "# Пример\n",
    "a = ['blueberry', 'strawberry', 'pineapple']\n",
    "print(a, type(a))"
   ]
  },
  {
   "cell_type": "code",
   "execution_count": null,
   "metadata": {},
   "outputs": [],
   "source": [
    "# Првиот индекс е 0\n",
    "print(a[0])\n",
    "print(a[1])"
   ]
  },
  {
   "cell_type": "code",
   "execution_count": null,
   "metadata": {},
   "outputs": [],
   "source": [
    "## Можеш да броиш од крајот на листата\n",
    "print('Последниот елемент е:', a[-1])\n",
    "print('Претпоследниот елемент е:', a[-2])"
   ]
  },
  {
   "cell_type": "code",
   "execution_count": null,
   "metadata": {},
   "outputs": [],
   "source": [
    "# можеш да селектираш дел од листата со 'slicing' користејки две точки\n",
    "print('a =', a)\n",
    "print('првите два елементи:', a[0:2])"
   ]
  },
  {
   "cell_type": "code",
   "execution_count": null,
   "metadata": {},
   "outputs": [],
   "source": [
    "# Можеш да го изоставиш почетокот и крајот\n",
    "print(a[:2])\n",
    "print(a[2:])\n",
    "print(a[:])\n",
    "print(a[:-1])"
   ]
  },
  {
   "cell_type": "code",
   "execution_count": null,
   "metadata": {},
   "outputs": [],
   "source": [
    "# Листите се објекти и имаат методи, како append:\n",
    "a.append('banana')\n",
    "print(a)\n",
    "\n",
    "a.append([1,2])\n",
    "print(a)\n",
    "\n",
    "a.pop()\n",
    "print(a)"
   ]
  },
  {
   "cell_type": "markdown",
   "metadata": {},
   "source": [
    "__Совет:__ Некој колекции во Python, вкличувајки ги и листите, всушност содржат покажувачи (pointers) до податоци, а не самите податоци. Погледни го следниот пример."
   ]
  },
  {
   "cell_type": "code",
   "execution_count": null,
   "metadata": {},
   "outputs": [],
   "source": [
    "a = 1\n",
    "b = a\n",
    "a = 2\n",
    "## Што е b?\n",
    "print('Што е b?', b)\n",
    "\n",
    "a = [1, 2, 3]\n",
    "b = a\n",
    "print('оригинално b', b)\n",
    "a[0] = 42\n",
    "print('Што е b откако го смениме a ?', b)\n",
    "print(b)"
   ]
  },
  {
   "cell_type": "markdown",
   "metadata": {},
   "source": [
    "### Вежба 2 - Зачувај податоци од висината на колегите во листа\n",
    "\n",
    "1. Прашај 5 луѓе околу тебе за висината во метри.\n",
    "2. Зачувај ги податоците во листа `heights`.\n",
    "3. Додај ја твојата висина од променливата *metres* калкулинана погоре во листата.\n",
    "4. Испринтај ја првата вредност од листата.\n",
    "\n",
    "__Bonus__\n",
    "\n",
    "1. Извади ја и последната вредност од листата на два начини и испечати ја\n",
    "\n",
    "**len()** е функција којашто ја дава должината на листа"
   ]
  },
  {
   "cell_type": "code",
   "execution_count": 3,
   "metadata": {},
   "outputs": [
    {
     "name": "stdout",
     "output_type": "stream",
     "text": [
      "193\n",
      "1.8372692307692307\n",
      "1.8372692307692307\n"
     ]
    }
   ],
   "source": [
    "heights = [193, 187, 170, 197, 182]\n",
    "heights.append(metres)\n",
    "print(heights[0])\n",
    "print(heights[5])\n",
    "dolzina = len(heights) \n",
    "print(heights[dolzina - 1])"
   ]
  },
  {
   "cell_type": "markdown",
   "metadata": {},
   "source": [
    "### 3.2 Tuples\n",
    "\n",
    "Tuples се слични како листите со две големи разлики\n",
    "\n",
    "1. Се декларираат со () наместо со []\n",
    "1. Откако ќе креираш tuple, не можеш да смениш што е во него\n",
    "\n",
    "Тие се користени наместо листи:\n",
    "\n",
    "1. за групирање на податоци, како на пример coord = (x,y)\n",
    "1. кога сакаш да превентираш случајна промена на некој податок, на пример shape = (12,23)"
   ]
  },
  {
   "cell_type": "code",
   "execution_count": null,
   "metadata": {},
   "outputs": [],
   "source": [
    "xy = (23, 45)\n",
    "print(xy[0])\n",
    "xy[0] = \"ова нема да работи со tuple\""
   ]
  },
  {
   "cell_type": "markdown",
   "metadata": {},
   "source": [
    "### Анатомијата на traceback error\n",
    "\n",
    "Traceback errors се појавуваат кога се обидуваш да извршиш некој код којшто е погрешен. \n",
    "\n",
    "Тоа изгледа вака:\n",
    "\n",
    "    TypeError                                 Traceback (most recent call last)\n",
    "    <ipython-input-25-4d15943dd557> in <module>()\n",
    "          1 xy = (23, 45)\n",
    "          2 xy[0]\n",
    "    ----> 3 xy[0] = 'this wont work with a tuple'\n",
    "\n",
    "    TypeError: 'tuple' object does not support item assignment\n",
    "    \n",
    "1. **TypeError** кажува дека користиш променлива на начин што нејзиниот тип не го дозволува.\n",
    "2. стрелките ----> покажуваат на линијата каде што се случила грешката.\n",
    "3. Читањето на traceback error е важно, зошто ќе ти помогне да откриеш што е погрешно во твојот код."
   ]
  },
  {
   "cell_type": "markdown",
   "metadata": {},
   "source": [
    "### 3.3 Дневници (Dictionaries)\n",
    "\n",
    "Дневниците се колекции што се користат кога сакаш да зачуваш и земеш податок по некое име или некој друг тип на клуч, отколку по нивната позиција во колекцијата. Добар пример се сет на податоци. Тие се декларираат со големи загради {}."
   ]
  },
  {
   "cell_type": "code",
   "execution_count": null,
   "metadata": {},
   "outputs": [],
   "source": [
    "# Пример\n",
    "convertors = {'inches_in_feet' : 12,\n",
    "              'inches_in_metre' : 39}\n",
    "\n",
    "print(convertors)\n",
    "print(convertors['inches_in_feet'])"
   ]
  },
  {
   "cell_type": "code",
   "execution_count": null,
   "metadata": {},
   "outputs": [],
   "source": [
    "## Додади нов клуч со податок пар\n",
    "convertors['metres_in_mile'] = 1609.34\n",
    "print(convertors)"
   ]
  },
  {
   "cell_type": "code",
   "execution_count": null,
   "metadata": {},
   "outputs": [],
   "source": [
    "# Поткрени KEY Error\n",
    "print(convertors['blueberry'])"
   ]
  },
  {
   "cell_type": "markdown",
   "metadata": {},
   "source": [
    "### 3.4 Numpy низи (ndarrays)\n",
    "\n",
    "Овие низи не се дел од основните Python библиотеки, и треба да се импортираат од numpy модулот. Тие се колекција од податоци, и сите податоци треба да бидат од исти тип, и работат слично како листите.\n",
    "\n",
    "Најважни карактеристики се:\n",
    "\n",
    "1. Може лесно да се примени операција на сите елементи од еднаш (алгебра со матрици) на низи\n",
    "2. Низите можат да бидат n-димензионални\n",
    "3. Немаат функција како append, но можат да се спојуваат\n",
    "\n",
    "Можат да се креираат од листи, или од почеток."
   ]
  },
  {
   "cell_type": "code",
   "execution_count": null,
   "metadata": {},
   "outputs": [],
   "source": [
    "# Треба да ја импортираме numpy библиотеката за да имаме пристап до низите  \n",
    "# Можеме да креиранме алијас на библиотека, како во примерот, што често се користи\n",
    "import numpy as np"
   ]
  },
  {
   "cell_type": "code",
   "execution_count": null,
   "metadata": {},
   "outputs": [],
   "source": [
    "# Креирај низа од листа\n",
    "alist = [2, 3, 4]\n",
    "blist = [5, 6, 7]\n",
    "a = np.array(alist)\n",
    "b = np.array(blist)\n",
    "print(a, type(a))\n",
    "print(b, type(b))"
   ]
  },
  {
   "cell_type": "code",
   "execution_count": null,
   "metadata": {},
   "outputs": [],
   "source": [
    "# Изврши некој операции на низа\n",
    "print(a**2)\n",
    "print(np.sin(a))\n",
    "print(a * b)\n",
    "print(a.dot(b), np.dot(a, b))"
   ]
  },
  {
   "cell_type": "code",
   "execution_count": null,
   "metadata": {},
   "outputs": [],
   "source": [
    "# Логички операции исто така можат да се извршубаат и вракаат логички низи\n",
    "print(a > 2)\n",
    "print(b == 6)\n",
    "\n",
    "c = a > 2\n",
    "print(c)\n",
    "print(type(c))\n",
    "print(c.dtype)"
   ]
  },
  {
   "cell_type": "code",
   "execution_count": null,
   "metadata": {},
   "outputs": [],
   "source": [
    "# Индексирање на низи\n",
    "print(a[0:2])\n",
    "\n",
    "c = np.random.rand(3,3)\n",
    "print(c)\n",
    "print('\\n')\n",
    "print(c[1:3,0:2])\n",
    "\n",
    "c[0,:] = a\n",
    "print('\\n')\n",
    "print(c)"
   ]
  },
  {
   "cell_type": "code",
   "execution_count": null,
   "metadata": {},
   "outputs": [],
   "source": [
    "# Низите исто така можат да се индексираат и со други логички низи\n",
    "print(a)\n",
    "print(b)\n",
    "print(a > 2)\n",
    "print(a[a > 2])\n",
    "print(b[a > 2])\n",
    "\n",
    "b[a == 3] = 77\n",
    "print(b)"
   ]
  },
  {
   "cell_type": "code",
   "execution_count": null,
   "metadata": {},
   "outputs": [],
   "source": [
    "# ndarrays покрај методите имаат и сопствени атрибути\n",
    "#c.\n",
    "print(c.shape)\n",
    "print(c.prod())"
   ]
  },
  {
   "cell_type": "code",
   "execution_count": null,
   "metadata": {},
   "outputs": [],
   "source": [
    "# Постојат начини да креирате низи од нули и единици\n",
    "print(np.zeros(5), '\\n')\n",
    "print(np.ones(5), '\\n')\n",
    "print(np.identity(5), '\\n')"
   ]
  },
  {
   "cell_type": "code",
   "execution_count": null,
   "metadata": {},
   "outputs": [],
   "source": [
    "# Исто така можат да се креираат и низи со секвенца од бројки\n",
    "print(np.arange(0, 10, 2))"
   ]
  },
  {
   "cell_type": "markdown",
   "metadata": {},
   "source": [
    "### Вежба 3 - Низи за едноставни анализи\n",
    "\n",
    "Погледни ја пак листата со висини во метри\n",
    "\n",
    "1. претвори ја во низа\n",
    "2. пресметај ја средната вредност (mean)\n",
    "3. креирај маска од сите вредности поголеми од некоја вредност (твој избор)\n",
    "4. најди ја средната вредност од селектираните податоци со маска\n"
   ]
  },
  {
   "cell_type": "code",
   "execution_count": 23,
   "metadata": {},
   "outputs": [
    {
     "name": "stdout",
     "output_type": "stream",
     "text": [
      "Array_lista [193.         187.         170.         197.         182.\n",
      "   1.83726923]\n",
      "Sredna vrednost: 155.13954487179487\n",
      "Maska [193. 197.]\n",
      "Sredna vrednost na maska 195.0\n"
     ]
    }
   ],
   "source": [
    "import numpy as np\n",
    "\n",
    "array_lista = np.array(heights)\n",
    "print(f\"Array_lista {array_lista}\")\n",
    "\n",
    "sredna = np.mean(array_lista)\n",
    "print(f\"Sredna vrednost: {sredna}\")\n",
    "\n",
    "maska = array_lista[array_lista > 190]\n",
    "print(f\"Maska {maska}\")\n",
    "\n",
    "sredna_vrednost_maska = np.mean(maska)\n",
    "print(f\"Sredna vrednost na maska {sredna_vrednost_maska}\")"
   ]
  },
  {
   "cell_type": "markdown",
   "metadata": {},
   "source": [
    "### Вежба 4 - XML документ од фамилијарно дрво\n",
    "\n",
    "Креирај string променлива во којашто како текст ќе внесеш кратка XML структура од твоето фамилијарно дрво, следејки ги правилата од предавања."
   ]
  },
  {
   "cell_type": "code",
   "execution_count": 45,
   "metadata": {},
   "outputs": [
    {
     "name": "stdout",
     "output_type": "stream",
     "text": [
      " \n",
      "<?xml version=\"1.0\" encoding=\"UTF-8\"?>\n",
      "\n",
      "<familija>\n",
      "\n",
      "<clen ime=\"Baba\">\n",
      "    <ime>Elena</ime>\n",
      "    <godina_na_ragjanje>1935</godina_na_ragjanje>\n",
      "  </clen>\n",
      "\n",
      "<clen ime=\"Dedo\">\n",
      "    <ime>Ljubomir</ime>\n",
      "    <godina_na_ragjanje>1937</godina_na_ragjanje>\n",
      "  </clen>\n",
      "\n",
      "<clen ime=\"Majka\">\n",
      "<ime>Natasha</ime>\n",
      "<godini_na_ragjanje>1979</godini_na_ragjanje>\n",
      "</clen>\n",
      "\n",
      "<clen ime=\"Brat\">\n",
      "    <ime>Filip</ime>\n",
      "    <godina_na_ragjanje>1997</godina_na_ragjanje>\n",
      "    <studii>Diplomiran Ekonomist - Bankarstvo</studii>\n",
      "    <profesija>Uvoz-Izvoz - AD MODA</profesija>\n",
      "</clen>\n",
      "\n",
      "<clen ime=\"Jas :)\">\n",
      "    <ime>Martin</ime>\n",
      "    <godina_na_ragjanje>2002</godina_na_ragjanje>\n",
      "    <studii>Kompjuterski Nauki IV godina</studii>\n",
      "    <profesija>Softverski Inzener</profesija>\n",
      "</clen>\n",
      "  \n",
      "</familija>\n",
      "\n",
      "\n"
     ]
    }
   ],
   "source": [
    "xml_string = \"\"\" \n",
    "<?xml version=\"1.0\" encoding=\"UTF-8\"?>\n",
    "\n",
    "<familija>\n",
    "\n",
    "<clen ime=\"Baba\">\n",
    "    <ime>Elena</ime>\n",
    "    <godina_na_ragjanje>1935</godina_na_ragjanje>\n",
    "  </clen>\n",
    "\n",
    "<clen ime=\"Dedo\">\n",
    "    <ime>Ljubomir</ime>\n",
    "    <godina_na_ragjanje>1937</godina_na_ragjanje>\n",
    "  </clen>\n",
    "\n",
    "<clen ime=\"Majka\">\n",
    "<ime>Natasha</ime>\n",
    "<godini_na_ragjanje>1979</godini_na_ragjanje>\n",
    "</clen>\n",
    "\n",
    "<clen ime=\"Brat\">\n",
    "    <ime>Filip</ime>\n",
    "    <godina_na_ragjanje>1997</godina_na_ragjanje>\n",
    "    <studii>Diplomiran Ekonomist - Bankarstvo</studii>\n",
    "    <profesija>Uvoz-Izvoz - AD MODA</profesija>\n",
    "</clen>\n",
    "\n",
    "<clen ime=\"Jas :)\">\n",
    "    <ime>Martin</ime>\n",
    "    <godina_na_ragjanje>2002</godina_na_ragjanje>\n",
    "    <studii>Kompjuterski Nauki IV godina</studii>\n",
    "    <profesija>Softverski Inzener</profesija>\n",
    "</clen>\n",
    "  \n",
    "</familija>\n",
    "\n",
    "\"\"\"\n",
    "\n",
    "print(xml_string)"
   ]
  },
  {
   "cell_type": "code",
   "execution_count": null,
   "metadata": {},
   "outputs": [],
   "source": []
  }
 ],
 "metadata": {
  "kernelspec": {
   "display_name": "Python 3 (ipykernel)",
   "language": "python",
   "name": "python3"
  },
  "language_info": {
   "codemirror_mode": {
    "name": "ipython",
    "version": 3
   },
   "file_extension": ".py",
   "mimetype": "text/x-python",
   "name": "python",
   "nbconvert_exporter": "python",
   "pygments_lexer": "ipython3",
   "version": "3.12.4"
  }
 },
 "nbformat": 4,
 "nbformat_minor": 4
}
